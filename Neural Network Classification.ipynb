{
 "cells": [
  {
   "cell_type": "code",
   "execution_count": null,
   "id": "d3152d89",
   "metadata": {},
   "outputs": [],
   "source": [
    "!pip install face-recognition"
   ]
  },
  {
   "cell_type": "code",
   "execution_count": null,
   "id": "608c6430",
   "metadata": {},
   "outputs": [],
   "source": [
    "from tensorflow.keras.preprocessing.image import ImageDataGenerator\n",
    "from tensorflow.keras.preprocessing import image\n",
    "from tensorflow.keras.optimizers import RMSprop\n",
    "from tensorflow.keras.models import Sequential\n",
    "import matplotlib.pyplot as plt\n",
    "import tensorflow as tf\n",
    "import numpy as np\n",
    "import pandas as pd\n",
    "import cv2\n",
    "import os"
   ]
  },
  {
   "cell_type": "code",
   "execution_count": null,
   "id": "3b900e7d",
   "metadata": {},
   "outputs": [],
   "source": [
    "img = image.load_img(r\"F:\\CV\\basedata\\Training\\valid\\User.user13.14.jpg\")"
   ]
  },
  {
   "cell_type": "code",
   "execution_count": null,
   "id": "208245bb",
   "metadata": {},
   "outputs": [],
   "source": [
    "plt.imshow(img)"
   ]
  },
  {
   "cell_type": "code",
   "execution_count": null,
   "id": "47e5e73c",
   "metadata": {},
   "outputs": [],
   "source": [
    "cv2.imread(r\"F:\\CV\\basedata\\Training\\valid\\User.user13.14.jpg\").shape"
   ]
  },
  {
   "cell_type": "code",
   "execution_count": null,
   "id": "188d83cb",
   "metadata": {},
   "outputs": [],
   "source": [
    "train = ImageDataGenerator(rescale= 1/255)\n",
    "validation = ImageDataGenerator(rescale=1/255)"
   ]
  },
  {
   "cell_type": "code",
   "execution_count": null,
   "id": "eccff9ae",
   "metadata": {},
   "outputs": [],
   "source": [
    "train_dataset = train.flow_from_directory('F:/CV/basedata/Training/', \n",
    "                                         target_size= (200,200),\n",
    "                                         batch_size = 3,\n",
    "                                         class_mode = 'binary')\n"
   ]
  },
  {
   "cell_type": "code",
   "execution_count": null,
   "id": "2d426b2a",
   "metadata": {},
   "outputs": [],
   "source": [
    "validation_dataset = train.flow_from_directory('F:/CV/basedata/validation/', \n",
    "                                         target_size= (200,200),\n",
    "                                         batch_size = 3,\n",
    "                                         class_mode = 'binary')"
   ]
  },
  {
   "cell_type": "code",
   "execution_count": null,
   "id": "d9bd6cfa",
   "metadata": {},
   "outputs": [],
   "source": [
    "train_dataset.class_indices"
   ]
  },
  {
   "cell_type": "code",
   "execution_count": null,
   "id": "68baa005",
   "metadata": {
    "scrolled": true
   },
   "outputs": [],
   "source": [
    "train_dataset.classes"
   ]
  },
  {
   "cell_type": "code",
   "execution_count": null,
   "id": "c12b7c10",
   "metadata": {},
   "outputs": [],
   "source": [
    "model = tf.keras.models.Sequential([tf.keras.layers.Conv2D(16,(3,3),activation = 'relu',\n",
    "                                                          input_shape =(200,200,3)), \n",
    "                                    tf.keras.layers.MaxPool2D(2,2),\n",
    "                                   #\n",
    "                                   tf.keras.layers.Conv2D(32,(3,3),activation = 'relu'),\n",
    "                                   tf.keras.layers.MaxPool2D(2,2),\n",
    "                                    #\n",
    "                                   tf.keras.layers.Conv2D(64,(3,3),activation = 'relu'),\n",
    "                                   tf.keras.layers.MaxPool2D(2,2),\n",
    "                                    #\n",
    "                                    tf.keras.layers.Flatten(),\n",
    "                                    #\n",
    "                                    tf.keras.layers.Dense(512,activation= 'relu'),\n",
    "                                    #\n",
    "                                    tf.keras.layers.Dense(1,activation='sigmoid')\n",
    "                                   ])"
   ]
  },
  {
   "cell_type": "code",
   "execution_count": null,
   "id": "acf7167d",
   "metadata": {},
   "outputs": [],
   "source": [
    "model.compile(loss='binary_crossentropy',\n",
    "             optimizer = RMSprop(learning_rate=0.001),\n",
    "             metrics =['accuracy'])"
   ]
  },
  {
   "cell_type": "code",
   "execution_count": null,
   "id": "bf5eb73d",
   "metadata": {},
   "outputs": [],
   "source": [
    "model_fit = model.fit(train_dataset, \n",
    "                     steps_per_epoch = 3,\n",
    "                     epochs = 50,\n",
    "                     validation_data = validation_dataset)"
   ]
  },
  {
   "cell_type": "code",
   "execution_count": null,
   "id": "7e613a56",
   "metadata": {},
   "outputs": [],
   "source": [
    "dir_path = 'F:/CV/basedata/testing/'\n",
    "\n",
    "for i in os.listdir(dir_path ):\n",
    "    img = image.load_img(dir_path+'//'+ i, target_size=(200,200))\n",
    "    plt.imshow(img)\n",
    "    plt.show()\n",
    "    \n",
    "    X= image.img_to_array(img)\n",
    "    X= np.expand_dims(X,axis =0)\n",
    "    images = np.vstack([X])\n",
    "    \n",
    "    val= model.predict(images)\n",
    "    if val == 0:\n",
    "        print(\"Invalid Employee Image\")\n",
    "    else:\n",
    "        print(\"Valid Employee Image\")"
   ]
  },
  {
   "cell_type": "code",
   "execution_count": null,
   "id": "018aed3a",
   "metadata": {},
   "outputs": [],
   "source": [
    "pip install scikit-learn"
   ]
  },
  {
   "cell_type": "code",
   "execution_count": null,
   "id": "67bb588d",
   "metadata": {},
   "outputs": [],
   "source": [
    "pip install -U scikit-learn scipy matplotlib"
   ]
  },
  {
   "cell_type": "code",
   "execution_count": null,
   "id": "1c659088",
   "metadata": {},
   "outputs": [],
   "source": [
    "pip install scikit-learn\n"
   ]
  },
  {
   "cell_type": "code",
   "execution_count": null,
   "id": "79fc30dd",
   "metadata": {
    "scrolled": true
   },
   "outputs": [],
   "source": [
    "import sys\n",
    "!{sys.executable} -m pip install sklearn"
   ]
  },
  {
   "cell_type": "code",
   "execution_count": null,
   "id": "d4889dac",
   "metadata": {},
   "outputs": [],
   "source": [
    "from sklearn.model_selection import train_test_split\n",
    "from sklearn.preprocessing import StandardScaler\n",
    "from sklearn.linear_model import LogisticRegression\n",
    "from sklearn.metrics import accuracy_score\n",
    "from sklearn.metrics import plot_confusion_matrix\n",
    "from sklearn.metrics import classification_report, confusion_matrix\n",
    "from sklearn import datasets\n",
    "from sklearn.tree import DecisionTreeClassifier\n",
    "from sklearn.svm import SVC"
   ]
  },
  {
   "cell_type": "code",
   "execution_count": null,
   "id": "f7d7017b",
   "metadata": {},
   "outputs": [],
   "source": [
    "pip install imutils"
   ]
  },
  {
   "cell_type": "code",
   "execution_count": null,
   "id": "d0052c7e",
   "metadata": {},
   "outputs": [],
   "source": [
    "from imutils import paths\n",
    "import cv2"
   ]
  },
  {
   "cell_type": "code",
   "execution_count": null,
   "id": "16f2d2cf",
   "metadata": {},
   "outputs": [],
   "source": [
    "imagePaths = list(paths.list_images(\"F:/CV/basedata/\"))\n",
    "imagePaths"
   ]
  },
  {
   "cell_type": "code",
   "execution_count": null,
   "id": "d688fea1",
   "metadata": {},
   "outputs": [],
   "source": [
    "#datapath = \"F:/computer_vision/basedata\"\n",
    "#outputlabelbinarizer = \n",
    "#outputmodel = \"F:\\computer_vision\\basedata\""
   ]
  },
  {
   "cell_type": "code",
   "execution_count": null,
   "id": "79222c6a",
   "metadata": {},
   "outputs": [],
   "source": [
    "X_train, X_test, y_train, y_test = train_test_split(X,y, test_size = 0.2, \n",
    "                                                    random_state=0)"
   ]
  },
  {
   "cell_type": "code",
   "execution_count": null,
   "id": "3bbe566e",
   "metadata": {},
   "outputs": [],
   "source": [
    "classifier_tree = DecisionTreeClassifier()\n",
    "\n",
    "y_predict = classifier_tree.fit(x_train, y_train).predict(x_test)"
   ]
  },
  {
   "cell_type": "code",
   "execution_count": null,
   "id": "ca321244",
   "metadata": {},
   "outputs": [],
   "source": []
  },
  {
   "cell_type": "code",
   "execution_count": null,
   "id": "80025899",
   "metadata": {},
   "outputs": [],
   "source": [
    "print(classification_report(y_test, y_predict, target_names=class_names))\n",
    "\n",
    "print(confusion_matrix(y_test, y_predict))"
   ]
  },
  {
   "cell_type": "code",
   "execution_count": null,
   "id": "bcba9b76",
   "metadata": {},
   "outputs": [],
   "source": [
    "clf = SVC(random_state=0)\n",
    "clf.fit(x_train, y_train)\n",
    "SVC(random_state=0)\n",
    "plot_confusion_matrix(clf, x_test, y_test)\n",
    "plt.show()"
   ]
  },
  {
   "cell_type": "code",
   "execution_count": null,
   "id": "381c092c",
   "metadata": {},
   "outputs": [],
   "source": []
  }
 ],
 "metadata": {
  "kernelspec": {
   "display_name": "Python 3 (ipykernel)",
   "language": "python",
   "name": "python3"
  },
  "language_info": {
   "codemirror_mode": {
    "name": "ipython",
    "version": 3
   },
   "file_extension": ".py",
   "mimetype": "text/x-python",
   "name": "python",
   "nbconvert_exporter": "python",
   "pygments_lexer": "ipython3",
   "version": "3.11.0"
  }
 },
 "nbformat": 4,
 "nbformat_minor": 5
}
